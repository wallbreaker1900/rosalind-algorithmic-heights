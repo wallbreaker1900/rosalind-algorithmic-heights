{
 "cells": [
  {
   "cell_type": "code",
   "execution_count": 20,
   "metadata": {},
   "outputs": [
    {
     "data": {
      "text/plain": [
       "'\\nBinary search is the ultimate divide-and-conquer algorithm. To find a key k \\nin a large file containing keys A[1..n] in sorted order, we first compare k\\nwith A[n/2], and depending on the result we recurse either on the first half\\nof the file, A[1..n/2], or on the second half, A[n/2+1..n]. \\nThe recurrence now is T(n)=T(n/2)+O(1). \\nPlugging into the master theorem (with a=1,b=2,d=0) \\nwe get the familiar solution: a running time of just O(logn).\\n\\nProblem\\nThe problem is to find a given set of keys in a given array.\\n\\nGiven: Two positive integers n≤10^5 and m≤10^5, \\na sorted array A[1..n] of integers from -10^5 to 10^5 \\nand a list of m integers -10^5≤k1, k2,…, km≤10^5.\\n\\nReturn: For each ki, output an index 1≤j≤n s.t. A[j]=ki \\nor \"-1\" if there is no such index.\\n'"
      ]
     },
     "execution_count": 20,
     "metadata": {},
     "output_type": "execute_result"
    }
   ],
   "source": [
    "\"\"\"\n",
    "Binary search is the ultimate divide-and-conquer algorithm. To find a key k \n",
    "in a large file containing keys A[1..n] in sorted order, we first compare k\n",
    "with A[n/2], and depending on the result we recurse either on the first half\n",
    "of the file, A[1..n/2], or on the second half, A[n/2+1..n]. \n",
    "The recurrence now is T(n)=T(n/2)+O(1). \n",
    "Plugging into the master theorem (with a=1,b=2,d=0) \n",
    "we get the familiar solution: a running time of just O(logn).\n",
    "\n",
    "Problem\n",
    "The problem is to find a given set of keys in a given array.\n",
    "\n",
    "Given: Two positive integers n≤10^5 and m≤10^5, \n",
    "a sorted array A[1..n] of integers from -10^5 to 10^5 \n",
    "and a list of m integers -10^5≤k1, k2,…, km≤10^5.\n",
    "\n",
    "Return: For each ki, output an index 1≤j≤n s.t. A[j]=ki \n",
    "or \"-1\" if there is no such index.\n",
    "\"\"\""
   ]
  },
  {
   "cell_type": "code",
   "execution_count": 21,
   "metadata": {},
   "outputs": [],
   "source": [
    "def bs(n: int, array: list[int], key: int) -> int:\n",
    "    # init bound\n",
    "    lo = 0\n",
    "    hi = n - 1\n",
    "    \n",
    "    # recurse\n",
    "    found = False\n",
    "    while lo <= hi:\n",
    "        mid = lo + (hi - lo) // 2\n",
    "        if array[mid] == key:\n",
    "            found = True\n",
    "            return mid + 1 # the problem used 1 indexing not 0 indexing\n",
    "        elif array[mid] < key:\n",
    "            lo = mid + 1\n",
    "        else:\n",
    "            hi = mid - 1\n",
    "    \n",
    "    # when no key found on given array\n",
    "    if found == False:\n",
    "        return -1\n",
    "    \n",
    "def main():\n",
    "    # read file\n",
    "    input_path = \"rosalind_bins.txt\"\n",
    "    with open(input_path, \"r\") as infile:\n",
    "        n = int(infile.readline().strip())\n",
    "        m = int(infile.readline().strip())\n",
    "        array = list(map(int, infile.readline().split()))\n",
    "        keys = list(map(int, infile.readline().split()))\n",
    "    \n",
    "    # test\n",
    "    # n = 5\n",
    "    # m = 6\n",
    "    # array = [10, 20, 30, 40, 50]\n",
    "    # keys = [40, 10, 35, 15, 40, 20]\n",
    "    \n",
    "    # loop through target keys\n",
    "    output_path = \"rosalind_bins_out.txt\"\n",
    "    with open(output_path, \"w\") as outfile:    \n",
    "        for key in keys:\n",
    "            outfile.write(str(bs(n, array, key)) + \" \")\n",
    "        \n",
    "if __name__ == \"__main__\":\n",
    "    main()"
   ]
  }
 ],
 "metadata": {
  "kernelspec": {
   "display_name": "Python 3",
   "language": "python",
   "name": "python3"
  },
  "language_info": {
   "codemirror_mode": {
    "name": "ipython",
    "version": 3
   },
   "file_extension": ".py",
   "mimetype": "text/x-python",
   "name": "python",
   "nbconvert_exporter": "python",
   "pygments_lexer": "ipython3",
   "version": "3.9.7"
  },
  "orig_nbformat": 4
 },
 "nbformat": 4,
 "nbformat_minor": 2
}
